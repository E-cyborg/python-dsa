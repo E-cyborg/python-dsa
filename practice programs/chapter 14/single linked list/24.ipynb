{
 "cells": [
  {
   "cell_type": "markdown",
   "metadata": {},
   "source": [
    "Check the list is palindrom or not"
   ]
  },
  {
   "cell_type": "code",
   "execution_count": null,
   "metadata": {},
   "outputs": [],
   "source": [
    "def check_palindrom(head):\n",
    "    # dublicate list\n",
    "    tmp=head.next\n",
    "    curr = Node(head.data)\n",
    "    tmp2=curr\n",
    "    while tmp!=None:\n",
    "        tmp2.next=Node(tmp.data)\n",
    "        tmp2=tmp2.next\n",
    "        tmp=tmp.next\n",
    "    # reverse the list\n",
    "\n",
    "\n",
    "    pre=None\n",
    "    cur=curr\n",
    "    while cur:\n",
    "        tmp=cur.next\n",
    "        cur.next=pre\n",
    "        pre=cur\n",
    "        cur=tmp\n",
    "    \n",
    "    original=head\n",
    "    reverse=pre\n",
    "    while original and reverse:\n",
    "        if original.data != reverse.data:\n",
    "            return False\n",
    "        original=original.next\n",
    "        reverse=reverse.next\n",
    "    return True\n",
    "\n",
    "\n",
    "    "
   ]
  }
 ],
 "metadata": {
  "kernelspec": {
   "display_name": "Python 3",
   "language": "python",
   "name": "python3"
  },
  "language_info": {
   "name": "python",
   "version": "3.12.6"
  }
 },
 "nbformat": 4,
 "nbformat_minor": 2
}
