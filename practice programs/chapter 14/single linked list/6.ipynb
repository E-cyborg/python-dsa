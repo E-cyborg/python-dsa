{
 "cells": [
  {
   "cell_type": "markdown",
   "metadata": {},
   "source": [
    "insert at the position"
   ]
  },
  {
   "cell_type": "code",
   "execution_count": null,
   "metadata": {},
   "outputs": [],
   "source": [
    "def insert_position(head, pst, val):\n",
    "    if head is None:\n",
    "        return Node(val)  # If list is empty, return new node as head\n",
    "    if pst==0:\n",
    "        tmp =Node(val)\n",
    "        tmp.next=head\n",
    "        return tmp\n",
    "    tmp = head\n",
    "    for x in range(pst-1):  # Move `pst-1` times to stop at the previous node\n",
    "        if tmp.next is not None:\n",
    "            tmp = tmp.next\n",
    "        else:\n",
    "            return \"The length of the list is less than the position\"\n",
    "\n",
    "    new_node = Node(val)\n",
    "    new_node.next = tmp.next\n",
    "    tmp.next = new_node\n",
    "\n",
    "    return head"
   ]
  }
 ],
 "metadata": {
  "kernelspec": {
   "display_name": "Python 3",
   "language": "python",
   "name": "python3"
  },
  "language_info": {
   "codemirror_mode": {
    "name": "ipython",
    "version": 3
   },
   "file_extension": ".py",
   "mimetype": "text/x-python",
   "name": "python",
   "nbconvert_exporter": "python",
   "pygments_lexer": "ipython3",
   "version": "3.12.6"
  }
 },
 "nbformat": 4,
 "nbformat_minor": 2
}
