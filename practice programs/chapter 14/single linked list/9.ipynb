{
 "cells": [
  {
   "cell_type": "markdown",
   "metadata": {},
   "source": [
    "Insertion in sorted list"
   ]
  },
  {
   "cell_type": "code",
   "execution_count": null,
   "metadata": {},
   "outputs": [],
   "source": [
    "def insertion_sort(head,data):\n",
    "    if head == None:\n",
    "        return Node(data)\n",
    "    tmp =head\n",
    "    if data<tmp.data:\n",
    "        tmp= Node(data)\n",
    "        tmp.next(head)\n",
    "        return tmp\n",
    "    while tmp <data:\n",
    "        tmp=tmp.next\n",
    "    tmp= Node(data)\n",
    "    return head\n"
   ]
  }
 ],
 "metadata": {
  "kernelspec": {
   "display_name": "Python 3",
   "language": "python",
   "name": "python3"
  },
  "language_info": {
   "codemirror_mode": {
    "name": "ipython",
    "version": 3
   },
   "file_extension": ".py",
   "mimetype": "text/x-python",
   "name": "python",
   "nbconvert_exporter": "python",
   "pygments_lexer": "ipython3",
   "version": "3.12.6"
  }
 },
 "nbformat": 4,
 "nbformat_minor": 2
}
