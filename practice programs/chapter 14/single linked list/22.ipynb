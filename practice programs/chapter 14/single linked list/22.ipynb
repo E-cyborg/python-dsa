{
 "cells": [
  {
   "cell_type": "code",
   "execution_count": 2,
   "metadata": {},
   "outputs": [],
   "source": [
    "from main import Linked_list as Node"
   ]
  },
  {
   "cell_type": "markdown",
   "metadata": {},
   "source": [
    "Make a dulicate copy of a linked list"
   ]
  },
  {
   "cell_type": "code",
   "execution_count": 3,
   "metadata": {},
   "outputs": [],
   "source": [
    "def duplicate_copy(head):\n",
    "    if not head:\n",
    "        return None  # Handle empty list case\n",
    "\n",
    "    new_head = Node(head.data)  # Copy the first node\n",
    "    new_tail = new_head\n",
    "    current = head.next  # Pointer for traversing original list\n",
    "\n",
    "    while current:\n",
    "        new_tail.next = Node(current.data)  # Create new node\n",
    "        new_tail = new_tail.next  # Move the tail forward\n",
    "        current = current.next  # Move in the original list\n",
    "\n",
    "    return new_head  # Return the head of the copied list\n"
   ]
  },
  {
   "cell_type": "code",
   "execution_count": 4,
   "metadata": {},
   "outputs": [
    {
     "name": "stdout",
     "output_type": "stream",
     "text": [
      "Original list:\n",
      "1 -> 2 -> 3 -> None\n",
      "Copied list:\n",
      "1 -> 2 -> 3 -> None\n"
     ]
    }
   ],
   "source": [
    "def print_list(head):\n",
    "    while head:\n",
    "        print(head.data, end=\" -> \")\n",
    "        head = head.next\n",
    "    print(\"None\")\n",
    "\n",
    "# Example Usage:\n",
    "head = Node(1)\n",
    "head.next = Node(2)\n",
    "head.next.next = Node(3)\n",
    "\n",
    "print(\"Original list:\")\n",
    "print_list(head)\n",
    "\n",
    "copied_head = duplicate_copy(head)\n",
    "\n",
    "print(\"Copied list:\")\n",
    "print_list(copied_head)\n"
   ]
  }
 ],
 "metadata": {
  "kernelspec": {
   "display_name": "Python 3",
   "language": "python",
   "name": "python3"
  },
  "language_info": {
   "codemirror_mode": {
    "name": "ipython",
    "version": 3
   },
   "file_extension": ".py",
   "mimetype": "text/x-python",
   "name": "python",
   "nbconvert_exporter": "python",
   "pygments_lexer": "ipython3",
   "version": "3.12.6"
  }
 },
 "nbformat": 4,
 "nbformat_minor": 2
}
