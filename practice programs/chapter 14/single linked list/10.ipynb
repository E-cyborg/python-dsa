{
 "cells": [
  {
   "cell_type": "markdown",
   "metadata": {},
   "source": [
    "Insertion in dec order sorted list"
   ]
  },
  {
   "cell_type": "code",
   "execution_count": null,
   "metadata": {},
   "outputs": [],
   "source": [
    "def insertion_de_list(head,data):\n",
    "    tmp=Node(data)\n",
    "    if head is None or head.data<data:\n",
    "        tmp.next=head\n",
    "        return tmp\n",
    "    cur=head\n",
    "    while cur.next is not None and cur.next.data>data:\n",
    "        cur=cur.next\n",
    "    tmp.next=cur.next\n",
    "    cur.next=tmp\n",
    "    return head"
   ]
  }
 ],
 "metadata": {
  "kernelspec": {
   "display_name": "Python 3",
   "language": "python",
   "name": "python3"
  },
  "language_info": {
   "name": "python",
   "version": "3.12.6"
  }
 },
 "nbformat": 4,
 "nbformat_minor": 2
}
