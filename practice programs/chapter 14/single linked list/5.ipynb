{
 "cells": [
  {
   "cell_type": "markdown",
   "metadata": {},
   "source": [
    "insertion at the last of list\n"
   ]
  },
  {
   "cell_type": "code",
   "execution_count": 1,
   "metadata": {},
   "outputs": [],
   "source": [
    "from main import Linked_list as Node"
   ]
  },
  {
   "cell_type": "code",
   "execution_count": null,
   "metadata": {},
   "outputs": [],
   "source": [
    "def insert_end(head, value):\n",
    "    if head is None:\n",
    "        return Node(value)  # Create a new node if the list is empty\n",
    "\n",
    "    tmp = head\n",
    "    while tmp.next is not None:  # Traverse to the last node\n",
    "        tmp = tmp.next\n",
    "\n",
    "    tmp.next = Node(value)  # Add new node at the end\n",
    "    return head  # Return the head of the linked list"
   ]
  }
 ],
 "metadata": {
  "kernelspec": {
   "display_name": "Python 3",
   "language": "python",
   "name": "python3"
  },
  "language_info": {
   "codemirror_mode": {
    "name": "ipython",
    "version": 3
   },
   "file_extension": ".py",
   "mimetype": "text/x-python",
   "name": "python",
   "nbconvert_exporter": "python",
   "pygments_lexer": "ipython3",
   "version": "3.12.6"
  }
 },
 "nbformat": 4,
 "nbformat_minor": 2
}
