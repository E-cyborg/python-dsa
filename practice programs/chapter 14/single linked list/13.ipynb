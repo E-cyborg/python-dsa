{
 "cells": [
  {
   "cell_type": "markdown",
   "metadata": {},
   "source": [
    "Delete a element"
   ]
  },
  {
   "cell_type": "code",
   "execution_count": null,
   "metadata": {},
   "outputs": [],
   "source": [
    "def delete_element(head,val):\n",
    "    if head is None or head.data==val:\n",
    "        return None\n",
    "    tmp=head\n",
    "    while tmp.next!= val and tmp.next!=None:\n",
    "        tmp=tmp.next\n",
    "    if tmp.next==None or tmp.next.next is None:\n",
    "        return \n",
    "    tmp.next=tmp.next.next\n",
    "    return head\n"
   ]
  }
 ],
 "metadata": {
  "kernelspec": {
   "display_name": "Python 3",
   "language": "python",
   "name": "python3"
  },
  "language_info": {
   "codemirror_mode": {
    "name": "ipython",
    "version": 3
   },
   "file_extension": ".py",
   "mimetype": "text/x-python",
   "name": "python",
   "nbconvert_exporter": "python",
   "pygments_lexer": "ipython3",
   "version": "3.12.6"
  }
 },
 "nbformat": 4,
 "nbformat_minor": 2
}
