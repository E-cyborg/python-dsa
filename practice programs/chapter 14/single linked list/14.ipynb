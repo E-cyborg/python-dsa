{
 "cells": [
  {
   "cell_type": "markdown",
   "metadata": {},
   "source": [
    "Delete all the elements"
   ]
  },
  {
   "cell_type": "code",
   "execution_count": null,
   "metadata": {},
   "outputs": [],
   "source": [
    "def all_elements(head,val):\n",
    "    if head==None:\n",
    "        return None\n",
    "    tmp =head\n",
    "    while tmp.next !=None:\n",
    "        if tmp.data==val:\n",
    "            if tmp.next.next is not None:\n",
    "\n",
    "                tmp.next=tmp.next.next\n",
    "            else:\n",
    "                tmp.next=None\n",
    "    return head\n",
    "    "
   ]
  }
 ],
 "metadata": {
  "kernelspec": {
   "display_name": "Python 3",
   "language": "python",
   "name": "python3"
  },
  "language_info": {
   "name": "python",
   "version": "3.12.6"
  }
 },
 "nbformat": 4,
 "nbformat_minor": 2
}
