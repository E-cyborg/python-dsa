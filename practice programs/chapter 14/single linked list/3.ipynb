{
 "cells": [
  {
   "cell_type": "code",
   "execution_count": null,
   "metadata": {},
   "outputs": [
    {
     "ename": "ModuleNotFoundError",
     "evalue": "No module named 'main'",
     "output_type": "error",
     "traceback": [
      "\u001b[1;31m---------------------------------------------------------------------------\u001b[0m",
      "\u001b[1;31mModuleNotFoundError\u001b[0m                       Traceback (most recent call last)",
      "Cell \u001b[1;32mIn[1], line 1\u001b[0m\n\u001b[1;32m----> 1\u001b[0m \u001b[38;5;28;01mfrom\u001b[39;00m \u001b[38;5;21;01mmain\u001b[39;00m \u001b[38;5;28;01mimport\u001b[39;00m Linked_list \u001b[38;5;28;01mas\u001b[39;00m Node\n",
      "\u001b[1;31mModuleNotFoundError\u001b[0m: No module named 'main'"
     ]
    }
   ],
   "source": [
    "\n",
    "from main import Linked_list as Node"
   ]
  },
  {
   "cell_type": "code",
   "execution_count": null,
   "metadata": {},
   "outputs": [],
   "source": [
    "def display(tmp):\n",
    "    if tmp== None:\n",
    "        return\n",
    "    print(tmp.data)\n",
    "    display(tmp.next)"
   ]
  },
  {
   "cell_type": "code",
   "execution_count": null,
   "metadata": {},
   "outputs": [],
   "source": [
    "def insertion(l):\n",
    "    if not l:  # Handle empty list case\n",
    "        return None\n",
    "    \n",
    "    head = Node(l[0])  # Initialize the head of the linked list\n",
    "    tmp = head\n",
    "\n",
    "    for x in range(1, len(l)):  # Iterate over all elements\n",
    "        tmp.next = Node(l[x])  # Create a new node and link it\n",
    "        tmp = tmp.next  # Move to the next node\n",
    "\n",
    "    return head\n",
    "    "
   ]
  },
  {
   "cell_type": "code",
   "execution_count": null,
   "metadata": {},
   "outputs": [],
   "source": [
    "def insert_at_first(h,v):\n",
    "    if h is None:\n",
    "        tmp=Node(v)\n",
    "        return tmp\n",
    "    tmp=Node(v)\n",
    "    tmp.next=h\n",
    "    return tmp"
   ]
  },
  {
   "cell_type": "code",
   "execution_count": null,
   "metadata": {},
   "outputs": [],
   "source": [
    "def insert_end(head, value):\n",
    "    if head is None:\n",
    "        return Node(value)  # Create a new node if the list is empty\n",
    "\n",
    "    tmp = head\n",
    "    while tmp.next is not None:  # Traverse to the last node\n",
    "        tmp = tmp.next\n",
    "\n",
    "    tmp.next = Node(value)  # Add new node at the end\n",
    "    return head  # Return the head of the linked list"
   ]
  },
  {
   "cell_type": "code",
   "execution_count": null,
   "metadata": {},
   "outputs": [],
   "source": [
    "def insert_position(head, pst, val):\n",
    "    if head is None:\n",
    "        return Node(val)  # If list is empty, return new node as head\n",
    "    if pst==0:\n",
    "        tmp =Node(val)\n",
    "        tmp.next=head\n",
    "        return tmp\n",
    "    tmp = head\n",
    "    for x in range(pst-1):  # Move `pst-1` times to stop at the previous node\n",
    "        if tmp.next is not None:\n",
    "            tmp = tmp.next\n",
    "        else:\n",
    "            return \"The length of the list is less than the position\"\n",
    "\n",
    "    new_node = Node(val)\n",
    "    new_node.next = tmp.next\n",
    "    tmp.next = new_node\n",
    "\n",
    "    return head"
   ]
  },
  {
   "cell_type": "code",
   "execution_count": null,
   "metadata": {},
   "outputs": [],
   "source": [
    "def count_len(head):\n",
    "    c = 0\n",
    "    tmp = head\n",
    "    while tmp is not None:  # Traverse the list correctly\n",
    "        c += 1\n",
    "        tmp = tmp.next  # Move to the next node\n",
    "    return c\n"
   ]
  },
  {
   "cell_type": "code",
   "execution_count": null,
   "metadata": {},
   "outputs": [],
   "source": [
    "def middle(h,count):\n",
    "    a=0\n",
    "    tmp=h\n",
    "    while a< count//2:\n",
    "        tmp=tmp.next\n",
    "        a+=1\n",
    "    return tmp.data"
   ]
  },
  {
   "cell_type": "code",
   "execution_count": null,
   "metadata": {},
   "outputs": [],
   "source": [
    "def insertion_sort(head,data):\n",
    "    new_node = Node(data)\n",
    "    if head is None or head.data >= data:\n",
    "        new_node.next = head\n",
    "        return new_node \n",
    "    tmp=head\n",
    "    while tmp.next is not None and tmp.next.data<=data:\n",
    "        tmp=tmp.next\n",
    "    new_node.next=tmp.next\n",
    "    tmp.next=new_node\n",
    "    return head\n",
    "\n"
   ]
  },
  {
   "cell_type": "code",
   "execution_count": null,
   "metadata": {},
   "outputs": [],
   "source": [
    "def insertion_de_list(head,data):\n",
    "    tmp=Node(data)\n",
    "    if head is None or head.data<data:\n",
    "        tmp.next=head\n",
    "        return tmp\n",
    "    cur=head\n",
    "    while cur.next is not None and cur.next.data>data:\n",
    "        cur=cur.next\n",
    "    tmp.next=cur.next\n",
    "    cur.next=tmp\n",
    "    return head"
   ]
  },
  {
   "cell_type": "code",
   "execution_count": null,
   "metadata": {},
   "outputs": [],
   "source": [
    "def delete_node_head(head):\n",
    "    if head is not None:\n",
    "        return head.next\n",
    "    return None\n",
    "        "
   ]
  },
  {
   "cell_type": "code",
   "execution_count": null,
   "metadata": {},
   "outputs": [],
   "source": [
    "def delete_last(head):\n",
    "    tmp=head\n",
    "    if tmp is None or tmp.next is None:\n",
    "        return None\n",
    "    while tmp.next.next !=None:\n",
    "        tmp=tmp.next\n",
    "    tmp.next=None\n",
    "    return head\n"
   ]
  },
  {
   "cell_type": "code",
   "execution_count": null,
   "metadata": {},
   "outputs": [],
   "source": [
    "def delete_sp(head,pos):\n",
    "    if head is None:\n",
    "        return None\n",
    "    tmp=head\n",
    "    if pos == 0:\n",
    "        return tmp.next\n",
    "    c=0\n",
    "    while tmp.next is not None and c<pos-1:\n",
    "        c+=1\n",
    "        tmp=tmp.next\n",
    "    if tmp.next is None or tmp.next.next is None:\n",
    "        tmp.next=None\n",
    "        return head\n",
    "    tmp.next=tmp.next.next\n",
    "    return head\n"
   ]
  },
  {
   "cell_type": "code",
   "execution_count": null,
   "metadata": {},
   "outputs": [],
   "source": [
    "def delete_element(head, val):\n",
    "    # Case 1: If the list is empty\n",
    "    if head is None:\n",
    "        return None\n",
    "\n",
    "    # Case 2: If the head node itself contains the value\n",
    "    if head.data == val:\n",
    "        return head.next  # New head of the list\n",
    "\n",
    "    # Case 3: Traverse to find the node before the one to be deleted\n",
    "    tmp = head\n",
    "    while tmp.next is not None and tmp.next.data != val:\n",
    "        tmp = tmp.next\n",
    "\n",
    "    # Case 4: If the node with value 'val' was found\n",
    "    if tmp.next is not None:\n",
    "        tmp.next = tmp.next.next\n",
    "\n",
    "    return head"
   ]
  },
  {
   "cell_type": "code",
   "execution_count": null,
   "metadata": {},
   "outputs": [],
   "source": [
    "def all_elements(head,val):\n",
    "    while head is not None and head.data==val:\n",
    "        head=head.next\n",
    "    tmp =head\n",
    "    while tmp is not None and tmp.next is not None:\n",
    "        if tmp.next.data == val:\n",
    "            tmp.next = tmp.next.next  # Remove next node\n",
    "        else:\n",
    "            tmp = tmp.next  # Move forward only if no deletion happens\n",
    "\n",
    "    return head\n",
    "    "
   ]
  },
  {
   "cell_type": "code",
   "execution_count": null,
   "metadata": {},
   "outputs": [],
   "source": [
    "def search1(head, val):\n",
    "    if head is None:\n",
    "        return -1  # Return -1 if the list is empty\n",
    "\n",
    "    c = 0\n",
    "    tmp = head\n",
    "\n",
    "    # Traverse the list\n",
    "    while tmp is not None:\n",
    "        if tmp.data == val:\n",
    "            return c  # Found value, return position\n",
    "        tmp = tmp.next\n",
    "        c += 1\n",
    "\n",
    "    return -1"
   ]
  },
  {
   "cell_type": "code",
   "execution_count": null,
   "metadata": {},
   "outputs": [],
   "source": [
    "def search3(head,val):\n",
    "    if head is None:\n",
    "        return False\n",
    "    if head.data is val:\n",
    "        return True\n",
    "    return search3(head.next,val)"
   ]
  },
  {
   "cell_type": "code",
   "execution_count": null,
   "metadata": {},
   "outputs": [],
   "source": [
    "def search4(head,val,i=0):\n",
    "    if head==None:\n",
    "        return -1\n",
    "    if head.data == val:\n",
    "        return i\n",
    "    return search4(head.next,val,i+1)"
   ]
  },
  {
   "cell_type": "code",
   "execution_count": null,
   "metadata": {},
   "outputs": [],
   "source": [
    "def remove_dublicats_sorted(head):\n",
    "    tmp=head\n",
    "    while tmp!=None and tmp.next!=None:\n",
    "        if tmp.data==tmp.next.data:\n",
    "            tmp=tmp.next.next\n",
    "        else:\n",
    "            tmp=tmp.next"
   ]
  },
  {
   "cell_type": "code",
   "execution_count": null,
   "metadata": {},
   "outputs": [],
   "source": [
    "def remove_dublicates(head):\n",
    "    l=set()\n",
    "    tmp=head\n",
    "    if head is None:\n",
    "        return None\n",
    "    while tmp.next:\n",
    "        if tmp.data in l:\n",
    "            tmp.next=tmp.next.next\n",
    "        else:\n",
    "            l.add(tmp.data)\n",
    "            tmp=tmp.next\n",
    "    return head"
   ]
  },
  {
   "cell_type": "code",
   "execution_count": null,
   "metadata": {},
   "outputs": [],
   "source": [
    "def nthnode_forrm_ending(head,pos):\n",
    "    t=count_len(head)\n",
    "    if head==None or pos<=0 or pos>t:\n",
    "        return -1\n",
    "    tmp=head\n",
    "    pos=t-pos\n",
    "    while 0<pos and tmp.next!=None:\n",
    "        tmp=tmp.next\n",
    "        pos-=1\n",
    "\n",
    "    return tmp.data"
   ]
  },
  {
   "cell_type": "code",
   "execution_count": null,
   "metadata": {},
   "outputs": [],
   "source": [
    "def Reverse_list(head):\n",
    "    if head is None:\n",
    "        return None\n",
    "    cur=head\n",
    "    pre=None\n",
    "    while cur!=None:\n",
    "        tmp=cur.next\n",
    "        cur.next=pre\n",
    "        pre=cur\n",
    "        cur=tmp\n",
    "\n",
    "    return pre"
   ]
  },
  {
   "cell_type": "code",
   "execution_count": null,
   "metadata": {},
   "outputs": [],
   "source": [
    "def duplicate_copy(head):\n",
    "    if not head:\n",
    "        return None  # Handle empty list case\n",
    "\n",
    "    new_head = Node(head.data)  # Copy the first node\n",
    "    new_tail = new_head\n",
    "    current = head.next  # Pointer for traversing original list\n",
    "\n",
    "    while current:\n",
    "        new_tail.next = Node(current.data)  # Create new node\n",
    "        new_tail = new_tail.next  # Move the tail forward\n",
    "        current = current.next  # Move in the original list\n",
    "\n",
    "    return new_head  # Return the head of the copied list\n"
   ]
  },
  {
   "cell_type": "code",
   "execution_count": null,
   "metadata": {},
   "outputs": [],
   "source": [
    "def compare_list(h1,h2):\n",
    "    if count_len(h1) != count_len(h2):\n",
    "        return False\n",
    "    tmp1=h1\n",
    "    tmp2=h2\n",
    "    while tmp1.next !=None and tmp2.next!=None:\n",
    "        if tmp1.data !=tmp2.data:\n",
    "            return False\n",
    "        tmp1=tmp1.next\n",
    "        tmp2=tmp2.next\n",
    "    return True\n"
   ]
  },
  {
   "cell_type": "code",
   "execution_count": 42,
   "metadata": {},
   "outputs": [],
   "source": [
    "def check_palindrom(head):\n",
    "    # dublicate list\n",
    "    tmp=head.next\n",
    "    curr = Node(head.data)\n",
    "    tmp2=curr\n",
    "    while tmp!=None:\n",
    "        tmp2.next=Node(tmp.data)\n",
    "        tmp2=tmp2.next\n",
    "        tmp=tmp.next\n",
    "    # reverse the list\n",
    "\n",
    "\n",
    "    pre=None\n",
    "    cur=curr\n",
    "    while cur:\n",
    "        tmp=cur.next\n",
    "        cur.next=pre\n",
    "        pre=cur\n",
    "        cur=tmp\n",
    "    \n",
    "    original=head\n",
    "    reverse=pre\n",
    "    while original and reverse:\n",
    "        if original.data != reverse.data:\n",
    "            return False\n",
    "        original=original.next\n",
    "        reverse=reverse.next\n",
    "    return True\n",
    "\n",
    "\n",
    "    "
   ]
  },
  {
   "cell_type": "code",
   "execution_count": null,
   "metadata": {},
   "outputs": [],
   "source": [
    "\n",
    "l=[1,2,3,4,5,6,7]\n",
    "print(\"\\n\\n --- Deafult list --- \\n\\n\")\n",
    "a=insertion(l)\n",
    "display(a)\n",
    "\n",
    "# insertion at the first location\n",
    "print(\"\\n\\n ----Insertion at the first locaton----\\n\\n\")\n",
    "head=insert_at_first(a,20)\n",
    "display(head)\n",
    "\n",
    "\n",
    "print(\"\\n\\n --- insertion at the end of list--- \\n\\n\")\n",
    "insert_end(head,30)\n",
    "display(head)\n",
    "\n",
    "\n",
    "print(\"\\n\\n --- insertion at the Postion of list--- \\n\\n\")\n",
    "head=insert_position(head,0,10)\n",
    "display(head)\n"
   ]
  },
  {
   "cell_type": "code",
   "execution_count": null,
   "metadata": {},
   "outputs": [],
   "source": [
    "print(\"\\n\\n --- insertion at the Postion of list--- \\n\\n\")\n",
    "head=insert_position(head,2,90)\n",
    "display(head)\n",
    "\n",
    "\n",
    "print(\"\\n\\n --- Count the len of list--- \\n\\n\")\n",
    "count=count_len(head)\n",
    "print(count)\n",
    "\n",
    "print(\"\\n\\n --- middle element form the list--- \\n\\n\")\n",
    "print(middle(head,count))"
   ]
  },
  {
   "cell_type": "code",
   "execution_count": null,
   "metadata": {},
   "outputs": [],
   "source": [
    "print(\"\\n\\n --- insertion in the sorted list --- \\n\\n\")\n",
    "head=insertion_sort(head,300)\n",
    "display(head)"
   ]
  },
  {
   "cell_type": "code",
   "execution_count": null,
   "metadata": {},
   "outputs": [],
   "source": [
    "print(f\"\\n\\n --- Dublicate copy of {head.data} --- \\n\\n\")\n",
    "hed=duplicate_copy(head)\n",
    "display(hed)"
   ]
  },
  {
   "cell_type": "code",
   "execution_count": null,
   "metadata": {},
   "outputs": [],
   "source": [
    "print(f\"\\n\\n --- compare two list of {head.data} and {hed.data} --- \\n\\n\")\n",
    "res=compare_list(head,hed)\n",
    "print(res)"
   ]
  },
  {
   "cell_type": "code",
   "execution_count": null,
   "metadata": {},
   "outputs": [],
   "source": [
    "print(\"\\n\\n --- insertion in the dec sorted list --- \\n\\n\")\n",
    "head=insertion_de_list(head,-1)\n",
    "display(head)"
   ]
  },
  {
   "cell_type": "code",
   "execution_count": null,
   "metadata": {},
   "outputs": [],
   "source": [
    "print(\"\\n\\n --- deleting the head node form the list --- \\n\\n\")\n",
    "head=delete_node_head(head)\n",
    "display(head)"
   ]
  },
  {
   "cell_type": "code",
   "execution_count": null,
   "metadata": {},
   "outputs": [],
   "source": [
    "print(\"\\n\\n --- deleting the last node form the list --- \\n\\n\")\n",
    "head=delete_last(head)\n",
    "display(head)"
   ]
  },
  {
   "cell_type": "code",
   "execution_count": null,
   "metadata": {},
   "outputs": [],
   "source": [
    "print(\"\\n\\n --- deleting at specific node form the list --- \\n\\n\")\n",
    "head=delete_sp(head,0)\n",
    "display(head)"
   ]
  },
  {
   "cell_type": "code",
   "execution_count": null,
   "metadata": {},
   "outputs": [],
   "source": [
    "print(\"\\n\\n --- deleting an element form the list --- \\n\\n\")\n",
    "head=delete_element(head,2)\n",
    "display(head)\n"
   ]
  },
  {
   "cell_type": "code",
   "execution_count": null,
   "metadata": {},
   "outputs": [],
   "source": [
    "print(\"\\n\\n --- deleting all the element form the list --- \\n\\n\")\n",
    "head=all_elements(head,2)\n",
    "display(head)"
   ]
  },
  {
   "cell_type": "code",
   "execution_count": null,
   "metadata": {},
   "outputs": [],
   "source": [
    "print(\"\\n\\n --- searching in the list --- \\n\\n\")\n",
    "a=search1(head,30)\n",
    "print(a)\n",
    "# display(head)"
   ]
  },
  {
   "cell_type": "code",
   "execution_count": null,
   "metadata": {},
   "outputs": [],
   "source": [
    "print(\"\\n\\n --- searching in the list --- \\n\\n\")\n",
    "a=search3(head,30)\n",
    "print(a)"
   ]
  },
  {
   "cell_type": "code",
   "execution_count": null,
   "metadata": {},
   "outputs": [],
   "source": [
    "print(\"\\n\\n --- searching in the list --- \\n\\n\")\n",
    "a=search4(head,30,0)\n",
    "print(a)"
   ]
  },
  {
   "cell_type": "code",
   "execution_count": null,
   "metadata": {},
   "outputs": [],
   "source": [
    "print(\"\\n\\n --- Remove the dublicates form the list --- \\n\\n\")\n",
    "head=remove_dublicates(head)\n",
    "display(head)\n"
   ]
  },
  {
   "cell_type": "code",
   "execution_count": null,
   "metadata": {},
   "outputs": [],
   "source": [
    "print(\"\\n\\n --- Nth elemetn for ending in the list --- \\n\\n\")\n",
    "a=nthnode_forrm_ending(head,4)\n",
    "print(a)"
   ]
  },
  {
   "cell_type": "code",
   "execution_count": null,
   "metadata": {},
   "outputs": [],
   "source": [
    "print(\"\\n\\n --- reverse the list --- \\n\\n\")\n",
    "a=Reverse_list(head)\n",
    "display(a)"
   ]
  }
 ],
 "metadata": {
  "kernelspec": {
   "display_name": "Python 3",
   "language": "python",
   "name": "python3"
  },
  "language_info": {
   "codemirror_mode": {
    "name": "ipython",
    "version": 3
   },
   "file_extension": ".py",
   "mimetype": "text/x-python",
   "name": "python",
   "nbconvert_exporter": "python",
   "pygments_lexer": "ipython3",
   "version": "3.12.6"
  }
 },
 "nbformat": 4,
 "nbformat_minor": 2
}
