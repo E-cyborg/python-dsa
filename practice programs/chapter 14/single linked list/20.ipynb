{
 "cells": [
  {
   "cell_type": "markdown",
   "metadata": {},
   "source": [
    "nthnode form the ending"
   ]
  },
  {
   "cell_type": "code",
   "execution_count": null,
   "metadata": {},
   "outputs": [],
   "source": [
    "def nthnode_forrm_ending(head,pos):\n",
    "    t=count_len(head)\n",
    "    if head==None or pos<=0 or pos>t:\n",
    "        return -1\n",
    "    tmp=head\n",
    "    while t-pos and tmp!=None:\n",
    "        tmp=tmp.next\n",
    "    return tmp.data"
   ]
  }
 ],
 "metadata": {
  "kernelspec": {
   "display_name": "Python 3",
   "language": "python",
   "name": "python3"
  },
  "language_info": {
   "name": "python",
   "version": "3.12.6"
  }
 },
 "nbformat": 4,
 "nbformat_minor": 2
}
