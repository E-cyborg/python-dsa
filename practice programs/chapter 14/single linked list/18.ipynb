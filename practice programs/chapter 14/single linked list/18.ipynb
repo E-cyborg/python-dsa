{
 "cells": [
  {
   "cell_type": "markdown",
   "metadata": {},
   "source": [
    "Remove the dublicates form the linked list"
   ]
  },
  {
   "cell_type": "code",
   "execution_count": null,
   "metadata": {},
   "outputs": [],
   "source": [
    "def remove_dublicates(head):\n",
    "    l=[]\n",
    "    tmp=head\n",
    "    while tmp.next !=None:\n",
    "        if tmp in l:\n",
    "            tmp=tmp.next.next\n",
    "        else:\n",
    "            l.append(tmp)\n",
    "            tmp=tmp.next\n",
    "    return head"
   ]
  }
 ],
 "metadata": {
  "kernelspec": {
   "display_name": "Python 3",
   "language": "python",
   "name": "python3"
  },
  "language_info": {
   "name": "python",
   "version": "3.12.6"
  }
 },
 "nbformat": 4,
 "nbformat_minor": 2
}
