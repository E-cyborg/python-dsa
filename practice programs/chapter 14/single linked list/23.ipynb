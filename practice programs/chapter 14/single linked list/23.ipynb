{
 "cells": [
  {
   "cell_type": "markdown",
   "metadata": {},
   "source": [
    "Compare two lists"
   ]
  },
  {
   "cell_type": "code",
   "execution_count": null,
   "metadata": {},
   "outputs": [],
   "source": [
    "def compare_list(h1,h2):\n",
    "    if count_len(h1) != count_len(h2):\n",
    "        return False\n",
    "    tmp1=h1\n",
    "    tmp2=h2\n",
    "    while tmp1.next !=None and tmp2.next!=None:\n",
    "        if tmp1.data !=tmp2.data:\n",
    "            return False\n",
    "    return True"
   ]
  }
 ],
 "metadata": {
  "kernelspec": {
   "display_name": "Python 3",
   "language": "python",
   "name": "python3"
  },
  "language_info": {
   "name": "python",
   "version": "3.12.6"
  }
 },
 "nbformat": 4,
 "nbformat_minor": 2
}
