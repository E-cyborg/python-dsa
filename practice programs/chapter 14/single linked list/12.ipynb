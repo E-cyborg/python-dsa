{
 "cells": [
  {
   "cell_type": "markdown",
   "metadata": {},
   "source": [
    "Delete at a specific location"
   ]
  },
  {
   "cell_type": "code",
   "execution_count": null,
   "metadata": {},
   "outputs": [],
   "source": [
    "def delete_sp(head,pos):\n",
    "    if head is None:\n",
    "        return None\n",
    "    tmp=head\n",
    "    c=0\n",
    "    while tmp.next is not None and c<pos-1:\n",
    "        c+=1\n",
    "        tmp=tmp.next\n",
    "    tmp.next=tmp.next.next\n",
    "    return head\n"
   ]
  }
 ],
 "metadata": {
  "kernelspec": {
   "display_name": "Python 3",
   "language": "python",
   "name": "python3"
  },
  "language_info": {
   "name": "python",
   "version": "3.12.6"
  }
 },
 "nbformat": 4,
 "nbformat_minor": 2
}
