{
 "cells": [
  {
   "cell_type": "markdown",
   "metadata": {},
   "source": [
    "search operation 1"
   ]
  },
  {
   "cell_type": "code",
   "execution_count": null,
   "metadata": {},
   "outputs": [],
   "source": [
    "def search1(head,val):\n",
    "    if head is None:\n",
    "        return None\n",
    "    c=0\n",
    "    tmp=head\n",
    "    while tmp.data != val and tmp.next !=None:\n",
    "        c+=1\n",
    "    if tmp.next==None:\n",
    "        return None\n",
    "    return c"
   ]
  }
 ],
 "metadata": {
  "kernelspec": {
   "display_name": "Python 3",
   "language": "python",
   "name": "python3"
  },
  "language_info": {
   "name": "python",
   "version": "3.12.6"
  }
 },
 "nbformat": 4,
 "nbformat_minor": 2
}
